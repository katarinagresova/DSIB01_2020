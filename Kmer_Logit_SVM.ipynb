{
  "nbformat": 4,
  "nbformat_minor": 0,
  "metadata": {
    "colab": {
      "name": "Kmer_Logit_SVM.ipynb",
      "provenance": [],
      "toc_visible": true,
      "authorship_tag": "ABX9TyPC8TNViVDhKPXoj3q17qht",
      "include_colab_link": true
    },
    "kernelspec": {
      "name": "python3",
      "display_name": "Python 3"
    }
  },
  "cells": [
    {
      "cell_type": "markdown",
      "metadata": {
        "id": "view-in-github",
        "colab_type": "text"
      },
      "source": [
        "<a href=\"https://colab.research.google.com/github/katarinagresova/DSIB01_2020/blob/main/Kmer_Logit_SVM.ipynb\" target=\"_parent\"><img src=\"https://colab.research.google.com/assets/colab-badge.svg\" alt=\"Open In Colab\"/></a>"
      ]
    },
    {
      "cell_type": "markdown",
      "metadata": {
        "id": "pI1EsWlLV0ZY"
      },
      "source": [
        "# Setup"
      ]
    },
    {
      "cell_type": "code",
      "metadata": {
        "colab": {
          "base_uri": "https://localhost:8080/"
        },
        "id": "MvrRQR4wcWCu",
        "outputId": "4b81b36e-4c70-4d2c-a846-9e75e9b9a0b5"
      },
      "source": [
        "!pip install biopython"
      ],
      "execution_count": 9,
      "outputs": [
        {
          "output_type": "stream",
          "text": [
            "Collecting biopython\n",
            "\u001b[?25l  Downloading https://files.pythonhosted.org/packages/76/02/8b606c4aa92ff61b5eda71d23b499ab1de57d5e818be33f77b01a6f435a8/biopython-1.78-cp36-cp36m-manylinux1_x86_64.whl (2.3MB)\n",
            "\u001b[K     |████████████████████████████████| 2.3MB 5.3MB/s \n",
            "\u001b[?25hRequirement already satisfied: numpy in /usr/local/lib/python3.6/dist-packages (from biopython) (1.18.5)\n",
            "Installing collected packages: biopython\n",
            "Successfully installed biopython-1.78\n"
          ],
          "name": "stdout"
        }
      ]
    },
    {
      "cell_type": "code",
      "metadata": {
        "id": "bSkfl7awV3VG"
      },
      "source": [
        "import csv\n",
        "import itertools\n",
        "from Bio import SeqIO\n",
        "import pandas as pd\n",
        "from sklearn.model_selection import train_test_split\n",
        "from sklearn.linear_model import LogisticRegression\n",
        "from sklearn.svm import LinearSVC\n",
        "from sklearn import metrics"
      ],
      "execution_count": 32,
      "outputs": []
    },
    {
      "cell_type": "markdown",
      "metadata": {
        "id": "BPd4fxpEUDx0"
      },
      "source": [
        "Mount Google Drive to use stored fasta file from lecture."
      ]
    },
    {
      "cell_type": "code",
      "metadata": {
        "colab": {
          "base_uri": "https://localhost:8080/"
        },
        "id": "B8_eU5ptTRcC",
        "outputId": "d08b711c-c34e-4c6b-9137-91a282f8ac88"
      },
      "source": [
        "from google.colab import drive\n",
        "drive.mount('/content/drive/')"
      ],
      "execution_count": 2,
      "outputs": [
        {
          "output_type": "stream",
          "text": [
            "Mounted at /content/drive/\n"
          ],
          "name": "stdout"
        }
      ]
    },
    {
      "cell_type": "markdown",
      "metadata": {
        "id": "JIDuPOxuV5sT"
      },
      "source": [
        "# K-mer preparation"
      ]
    },
    {
      "cell_type": "code",
      "metadata": {
        "id": "G5qS9SweW2Wj"
      },
      "source": [
        "def get_all_possible_kmers(k, bases):\n",
        "  return [''.join(p) for p in itertools.product(bases, repeat=k)]"
      ],
      "execution_count": 3,
      "outputs": []
    },
    {
      "cell_type": "code",
      "metadata": {
        "id": "1AITPNN8Y8R2"
      },
      "source": [
        "def get_kmer_frequencies(seq, possible_kmers):\n",
        "  kmer_counts = {kmer : 0 for kmer in possible_kmers}\n",
        "  k = len(possible_kmers[0])\n",
        "\n",
        "  for i in range(len(seq) - k + 1):\n",
        "    kmer = seq[i:i+k]\n",
        "    kmer_counts[kmer] += 1\n",
        "\n",
        "  kmer_freqs = [count / len(seq) for count in kmer_counts.values()]\n",
        "  return kmer_freqs"
      ],
      "execution_count": 4,
      "outputs": []
    },
    {
      "cell_type": "code",
      "metadata": {
        "id": "3gKVjJomUH4X"
      },
      "source": [
        "def create_kmer_file(positive_seqs_file, negative_seqs_file, out_file, k=3):\n",
        "\n",
        "  bases = ['G', 'C', 'A', 'T']\n",
        "  possible_kmers = get_all_possible_kmers(k, bases)\n",
        "\n",
        "  with open(out_file, 'w', newline='') as f:\n",
        "    writer = csv.writer(f)\n",
        "    writer.writerow(['Categ'] + possible_kmers)\n",
        "\n",
        "    for record in SeqIO.parse(positive_seqs_file, \"fasta\"):\n",
        "      kmer_frequencies = get_kmer_frequencies(record.seq, possible_kmers)\n",
        "      writer.writerow(['1'] + kmer_frequencies)\n",
        "\n",
        "    for record in SeqIO.parse(negative_seqs_file, \"fasta\"):\n",
        "      kmer_frequencies = get_kmer_frequencies(record.seq, possible_kmers)\n",
        "      writer.writerow(['0'] + kmer_frequencies)"
      ],
      "execution_count": 12,
      "outputs": []
    },
    {
      "cell_type": "code",
      "metadata": {
        "id": "wC_XFAGtbuoi"
      },
      "source": [
        "positive_seqs_file = '/content/drive/My Drive/DSIB01/hw3/PUM2_10K_window-50_with_sequences.fa'\n",
        "negative_seqs_file = '/content/drive/My Drive/DSIB01/hw3/neg_11_5K_window-50_with_sequences.fa'\n",
        "out_file = 'kmers.csv'\n",
        "create_kmer_file(positive_seqs_file, negative_seqs_file, out_file)"
      ],
      "execution_count": 13,
      "outputs": []
    },
    {
      "cell_type": "code",
      "metadata": {
        "id": "5B0fzGh9dRbx"
      },
      "source": [
        "def load_data(data_file):\n",
        "  df = pd.read_csv(data_file)\n",
        "  x = df.iloc[:, 1:]\n",
        "  y = df.iloc[:, 0]\n",
        "  return x, y"
      ],
      "execution_count": 25,
      "outputs": []
    },
    {
      "cell_type": "code",
      "metadata": {
        "id": "jHjO5ucwn48a"
      },
      "source": [
        "x, y = load_data(out_file)\n",
        "x_train, x_test, y_train, y_test = train_test_split(x, y, test_size=0.2, random_state=42)"
      ],
      "execution_count": null,
      "outputs": []
    },
    {
      "cell_type": "markdown",
      "metadata": {
        "id": "iTaaZDGKdRwR"
      },
      "source": [
        "# Logistic regression model"
      ]
    },
    {
      "cell_type": "code",
      "metadata": {
        "id": "Dp_kgkP-e9Hy"
      },
      "source": [
        "logisticRegr = LogisticRegression()\n",
        "logisticRegr.fit(x_train, y_train)\n",
        "\n",
        "predictions = logisticRegr.predict(x_test)"
      ],
      "execution_count": 28,
      "outputs": []
    },
    {
      "cell_type": "code",
      "metadata": {
        "colab": {
          "base_uri": "https://localhost:8080/"
        },
        "id": "e_5pHwbymIt4",
        "outputId": "2dcef9fc-99b0-4f1e-d2d3-27ed6ed2595e"
      },
      "source": [
        "print(metrics.accuracy_score(y_test, predictions))\n",
        "print(metrics.precision_score(y_test, predictions))\n",
        "print(metrics.recall_score(y_test, predictions))"
      ],
      "execution_count": 31,
      "outputs": [
        {
          "output_type": "stream",
          "text": [
            "0.8397480755773268\n",
            "0.84185303514377\n",
            "0.802130898021309\n"
          ],
          "name": "stdout"
        }
      ]
    },
    {
      "cell_type": "markdown",
      "metadata": {
        "id": "y9oK5I9mny4k"
      },
      "source": [
        "# SVM"
      ]
    },
    {
      "cell_type": "code",
      "metadata": {
        "id": "XAaZDwUSn0cw"
      },
      "source": [
        "linearSvc = LinearSVC()\n",
        "linearSvc.fit(x_train, y_train)\n",
        "\n",
        "predictions = linearSvc.predict(x_test)"
      ],
      "execution_count": 33,
      "outputs": []
    },
    {
      "cell_type": "code",
      "metadata": {
        "colab": {
          "base_uri": "https://localhost:8080/"
        },
        "id": "p0IGyYYloOI3",
        "outputId": "4e9635a2-85d8-424a-ca46-676510581dd8"
      },
      "source": [
        "print(metrics.accuracy_score(y_test, predictions))\n",
        "print(metrics.precision_score(y_test, predictions))\n",
        "print(metrics.recall_score(y_test, predictions))"
      ],
      "execution_count": 34,
      "outputs": [
        {
          "output_type": "stream",
          "text": [
            "0.8514112432936786\n",
            "0.8424024640657084\n",
            "0.832572298325723\n"
          ],
          "name": "stdout"
        }
      ]
    }
  ]
}