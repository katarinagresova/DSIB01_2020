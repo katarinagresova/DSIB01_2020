{
  "nbformat": 4,
  "nbformat_minor": 0,
  "metadata": {
    "colab": {
      "name": "Global_Alignment.ipynb",
      "provenance": [],
      "collapsed_sections": [],
      "authorship_tag": "ABX9TyPpY8g3y6+4NsxdrejuPqFD",
      "include_colab_link": true
    },
    "kernelspec": {
      "name": "python3",
      "display_name": "Python 3"
    }
  },
  "cells": [
    {
      "cell_type": "markdown",
      "metadata": {
        "id": "view-in-github",
        "colab_type": "text"
      },
      "source": [
        "<a href=\"https://colab.research.google.com/github/katarinagresova/DSIB01_2020/blob/main/Global_Alignment.ipynb\" target=\"_parent\"><img src=\"https://colab.research.google.com/assets/colab-badge.svg\" alt=\"Open In Colab\"/></a>"
      ]
    },
    {
      "cell_type": "code",
      "metadata": {
        "id": "kobX2VEJHz6k"
      },
      "source": [
        "import numpy as np"
      ],
      "execution_count": null,
      "outputs": []
    },
    {
      "cell_type": "code",
      "metadata": {
        "id": "vDXK3eB8pZE7"
      },
      "source": [
        "def backprop(directions, seq_1, seq_2):\n",
        "  \"\"\" Retrieve global alignment of two sequences from directions matrix\n",
        "  @param directions matrix\n",
        "  @param seq_1 on top of matrix\n",
        "  @param seq_2 on side of matrix\n",
        "  \"\"\"\n",
        "\n",
        "  out_1 = \"\"\n",
        "  out_2 = \"\"\n",
        "  column = len(directions[0]) - 1\n",
        "  row = len(directions) - 1 \n",
        "  while directions[row, column] != 0:\n",
        "    if directions[row, column] == 1:\n",
        "      out_1 += seq_1[column - 1]\n",
        "      out_2 += \"-\"\n",
        "      column -= 1\n",
        "    elif directions[row, column] == 2:\n",
        "      out_1 += seq_1[column - 1]\n",
        "      out_2 += seq_2[row - 1]\n",
        "      column -= 1\n",
        "      row -= 1\n",
        "    else:\n",
        "      out_1 += \"-\"\n",
        "      out_2 += seq_2[row - 1]\n",
        "      row -= 1\n",
        "  return (out_1[::-1], out_2[::-1])"
      ],
      "execution_count": null,
      "outputs": []
    },
    {
      "cell_type": "code",
      "metadata": {
        "id": "fnyVdcHAIERd"
      },
      "source": [
        "def global_alignment(seq_1, seq_2):\n",
        "  \"\"\" Compute global alignment of two sequences\n",
        "  @param seq_1 on top of matrix\n",
        "  @param seq_2 on side of matrix\n",
        "  \"\"\"\n",
        "\n",
        "  MATCH = 1\n",
        "  MISMATCH = -1 \n",
        "  INDEL = -1\n",
        "\n",
        "  columns = len(seq_1) + 1\n",
        "  rows = len(seq_2) + 1\n",
        "\n",
        "  scores = np.zeros((rows, columns))\n",
        "  # 1 = left\n",
        "  # 2 = diagonal\n",
        "  # 3 = top\n",
        "  directions = np.zeros((rows, columns))\n",
        "\n",
        "  for column in range(columns):\n",
        "    scores[0, column] = -1 * column\n",
        "    directions[0, column] = 1\n",
        "\n",
        "  for row in range(rows):\n",
        "    scores[row, 0] = -1 * row\n",
        "    directions[row, 0] = 3\n",
        "\n",
        "  directions[0, 0] = 0\n",
        "\n",
        "  for column in range(1, columns):\n",
        "    for row in range(1, rows):\n",
        "\n",
        "      # get possible scores from all 3 sites\n",
        "      from_left = scores[row, column - 1] + INDEL\n",
        "      if seq_1[column -1 ] == seq_2[row - 1]:   \n",
        "        match = MATCH\n",
        "      else:\n",
        "        match = MISMATCH\n",
        "      from_diagonal = scores[row - 1, column - 1] + match\n",
        "      from_top = scores[row - 1, column] + INDEL\n",
        "\n",
        "      # fill score and direction matrix\n",
        "      if from_left > from_diagonal and from_left > from_top:\n",
        "        scores[row, column] = from_left\n",
        "        directions[row, column] = 1\n",
        "      elif from_diagonal > from_left and from_diagonal > from_top:\n",
        "        scores[row, column] = from_diagonal\n",
        "        directions[row, column] = 2\n",
        "      else:\n",
        "        scores[row, column] = from_top\n",
        "        directions[row, column] = 3\n",
        "\n",
        "  # backpropagation  \n",
        "  out_1, out_2 = backprop(directions, seq_1, seq_2)\n",
        "\n",
        "  print(\"Global alignmnet score:\", scores[rows - 1, columns - 1])\n",
        "  print(out_1)\n",
        "  print(out_2)"
      ],
      "execution_count": null,
      "outputs": []
    },
    {
      "cell_type": "code",
      "metadata": {
        "id": "fqGx56VlIvWN",
        "outputId": "21406b84-53b3-4723-80f0-74785708f41f",
        "colab": {
          "base_uri": "https://localhost:8080/"
        }
      },
      "source": [
        "seq_1 = \"ATGGC\"\n",
        "seq_2 = \"ATTGGC\"\n",
        "\n",
        "global_alignment(seq_1, seq_2)"
      ],
      "execution_count": null,
      "outputs": [
        {
          "output_type": "stream",
          "text": [
            "Global alignmnet score: 4.0\n",
            "AT-GGC\n",
            "ATTGGC\n"
          ],
          "name": "stdout"
        }
      ]
    }
  ]
}