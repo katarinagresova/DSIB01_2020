{
  "nbformat": 4,
  "nbformat_minor": 0,
  "metadata": {
    "colab": {
      "name": "Align_Fasta_To_Genome.ipynb",
      "provenance": [],
      "collapsed_sections": [],
      "authorship_tag": "ABX9TyOQ1DpiQtjsU9HUKNBLCyvF",
      "include_colab_link": true
    },
    "kernelspec": {
      "name": "python3",
      "display_name": "Python 3"
    }
  },
  "cells": [
    {
      "cell_type": "markdown",
      "metadata": {
        "id": "view-in-github",
        "colab_type": "text"
      },
      "source": [
        "<a href=\"https://colab.research.google.com/github/katarinagresova/DSIB01_2020/blob/main/Align_Fasta_To_Genome.ipynb\" target=\"_parent\"><img src=\"https://colab.research.google.com/assets/colab-badge.svg\" alt=\"Open In Colab\"/></a>"
      ]
    },
    {
      "cell_type": "markdown",
      "metadata": {
        "id": "zxv5xL27tEfd"
      },
      "source": [
        "# Align fasta file to humane genome"
      ]
    },
    {
      "cell_type": "markdown",
      "metadata": {
        "id": "uN6zZnJhNYE5"
      },
      "source": [
        "Mount Google Drive to use stored fasta file from lecture."
      ]
    },
    {
      "cell_type": "code",
      "metadata": {
        "id": "Z9p8uSqL1VCW",
        "outputId": "08caacbb-5ece-4528-cc3a-260d67ccf2ea",
        "colab": {
          "base_uri": "https://localhost:8080/",
          "height": 34
        }
      },
      "source": [
        "from google.colab import drive\n",
        "drive.mount('/content/drive/')"
      ],
      "execution_count": null,
      "outputs": [
        {
          "output_type": "stream",
          "text": [
            "Mounted at /content/drive/\n"
          ],
          "name": "stdout"
        }
      ]
    },
    {
      "cell_type": "markdown",
      "metadata": {
        "id": "8DjxtmosT5b8"
      },
      "source": [
        "Download Human genome sequences."
      ]
    },
    {
      "cell_type": "code",
      "metadata": {
        "id": "jFBaz4cw22j3",
        "outputId": "a44c88a8-8dc0-4f26-c1df-039ee101de6c",
        "colab": {
          "base_uri": "https://localhost:8080/",
          "height": 204
        }
      },
      "source": [
        "!wget http://hgdownload.soe.ucsc.edu/goldenPath/hg38/bigZips/analysisSet/hg38.analysisSet.chroms.tar.gz"
      ],
      "execution_count": null,
      "outputs": [
        {
          "output_type": "stream",
          "text": [
            "--2020-10-22 19:14:11--  http://hgdownload.soe.ucsc.edu/goldenPath/hg38/bigZips/analysisSet/hg38.analysisSet.chroms.tar.gz\n",
            "Resolving hgdownload.soe.ucsc.edu (hgdownload.soe.ucsc.edu)... 128.114.119.163\n",
            "Connecting to hgdownload.soe.ucsc.edu (hgdownload.soe.ucsc.edu)|128.114.119.163|:80... connected.\n",
            "HTTP request sent, awaiting response... 200 OK\n",
            "Length: 949175816 (905M) [application/x-gzip]\n",
            "Saving to: ‘hg38.analysisSet.chroms.tar.gz’\n",
            "\n",
            "hg38.analysisSet.ch 100%[===================>] 905.20M  21.1MB/s    in 60s     \n",
            "\n",
            "2020-10-22 19:15:11 (15.0 MB/s) - ‘hg38.analysisSet.chroms.tar.gz’ saved [949175816/949175816]\n",
            "\n"
          ],
          "name": "stdout"
        }
      ]
    },
    {
      "cell_type": "markdown",
      "metadata": {
        "id": "2L_cDgGyT9ch"
      },
      "source": [
        "Unpack it."
      ]
    },
    {
      "cell_type": "code",
      "metadata": {
        "id": "KXEJNCZzGIqL",
        "outputId": "35716517-c25a-4a27-d3f4-c003f809b045",
        "colab": {
          "base_uri": "https://localhost:8080/",
          "height": 1000
        }
      },
      "source": [
        "!tar -xzvf hg38.analysisSet.chroms.tar.gz"
      ],
      "execution_count": null,
      "outputs": [
        {
          "output_type": "stream",
          "text": [
            "./hg38.analysisSet.chroms/\n",
            "./hg38.analysisSet.chroms/chr1.fa\n",
            "./hg38.analysisSet.chroms/chr2.fa\n",
            "./hg38.analysisSet.chroms/chr3.fa\n",
            "./hg38.analysisSet.chroms/chr4.fa\n",
            "./hg38.analysisSet.chroms/chr5.fa\n",
            "./hg38.analysisSet.chroms/chr6.fa\n",
            "./hg38.analysisSet.chroms/chr7.fa\n",
            "./hg38.analysisSet.chroms/chr8.fa\n",
            "./hg38.analysisSet.chroms/chr9.fa\n",
            "./hg38.analysisSet.chroms/chr10.fa\n",
            "./hg38.analysisSet.chroms/chr11.fa\n",
            "./hg38.analysisSet.chroms/chr12.fa\n",
            "./hg38.analysisSet.chroms/chr13.fa\n",
            "./hg38.analysisSet.chroms/chr14.fa\n",
            "./hg38.analysisSet.chroms/chr15.fa\n",
            "./hg38.analysisSet.chroms/chr16.fa\n",
            "./hg38.analysisSet.chroms/chr17.fa\n",
            "./hg38.analysisSet.chroms/chr18.fa\n",
            "./hg38.analysisSet.chroms/chr19.fa\n",
            "./hg38.analysisSet.chroms/chr20.fa\n",
            "./hg38.analysisSet.chroms/chr21.fa\n",
            "./hg38.analysisSet.chroms/chr22.fa\n",
            "./hg38.analysisSet.chroms/chrX.fa\n",
            "./hg38.analysisSet.chroms/chrY.fa\n",
            "./hg38.analysisSet.chroms/chrM.fa\n",
            "./hg38.analysisSet.chroms/chr1_KI270706v1_random.fa\n",
            "./hg38.analysisSet.chroms/chr1_KI270707v1_random.fa\n",
            "./hg38.analysisSet.chroms/chr1_KI270708v1_random.fa\n",
            "./hg38.analysisSet.chroms/chr1_KI270709v1_random.fa\n",
            "./hg38.analysisSet.chroms/chr1_KI270710v1_random.fa\n",
            "./hg38.analysisSet.chroms/chr1_KI270711v1_random.fa\n",
            "./hg38.analysisSet.chroms/chr1_KI270712v1_random.fa\n",
            "./hg38.analysisSet.chroms/chr1_KI270713v1_random.fa\n",
            "./hg38.analysisSet.chroms/chr1_KI270714v1_random.fa\n",
            "./hg38.analysisSet.chroms/chr2_KI270715v1_random.fa\n",
            "./hg38.analysisSet.chroms/chr2_KI270716v1_random.fa\n",
            "./hg38.analysisSet.chroms/chr3_GL000221v1_random.fa\n",
            "./hg38.analysisSet.chroms/chr4_GL000008v2_random.fa\n",
            "./hg38.analysisSet.chroms/chr5_GL000208v1_random.fa\n",
            "./hg38.analysisSet.chroms/chr9_KI270717v1_random.fa\n",
            "./hg38.analysisSet.chroms/chr9_KI270718v1_random.fa\n",
            "./hg38.analysisSet.chroms/chr9_KI270719v1_random.fa\n",
            "./hg38.analysisSet.chroms/chr9_KI270720v1_random.fa\n",
            "./hg38.analysisSet.chroms/chr11_KI270721v1_random.fa\n",
            "./hg38.analysisSet.chroms/chr14_GL000009v2_random.fa\n",
            "./hg38.analysisSet.chroms/chr14_GL000225v1_random.fa\n",
            "./hg38.analysisSet.chroms/chr14_KI270722v1_random.fa\n",
            "./hg38.analysisSet.chroms/chr14_GL000194v1_random.fa\n",
            "./hg38.analysisSet.chroms/chr14_KI270723v1_random.fa\n",
            "./hg38.analysisSet.chroms/chr14_KI270724v1_random.fa\n",
            "./hg38.analysisSet.chroms/chr14_KI270725v1_random.fa\n",
            "./hg38.analysisSet.chroms/chr14_KI270726v1_random.fa\n",
            "./hg38.analysisSet.chroms/chr15_KI270727v1_random.fa\n",
            "./hg38.analysisSet.chroms/chr16_KI270728v1_random.fa\n",
            "./hg38.analysisSet.chroms/chr17_GL000205v2_random.fa\n",
            "./hg38.analysisSet.chroms/chr17_KI270729v1_random.fa\n",
            "./hg38.analysisSet.chroms/chr17_KI270730v1_random.fa\n",
            "./hg38.analysisSet.chroms/chr22_KI270731v1_random.fa\n",
            "./hg38.analysisSet.chroms/chr22_KI270732v1_random.fa\n",
            "./hg38.analysisSet.chroms/chr22_KI270733v1_random.fa\n",
            "./hg38.analysisSet.chroms/chr22_KI270734v1_random.fa\n",
            "./hg38.analysisSet.chroms/chr22_KI270735v1_random.fa\n",
            "./hg38.analysisSet.chroms/chr22_KI270736v1_random.fa\n",
            "./hg38.analysisSet.chroms/chr22_KI270737v1_random.fa\n",
            "./hg38.analysisSet.chroms/chr22_KI270738v1_random.fa\n",
            "./hg38.analysisSet.chroms/chr22_KI270739v1_random.fa\n",
            "./hg38.analysisSet.chroms/chrY_KI270740v1_random.fa\n",
            "./hg38.analysisSet.chroms/chrUn_KI270302v1.fa\n",
            "./hg38.analysisSet.chroms/chrUn_KI270304v1.fa\n",
            "./hg38.analysisSet.chroms/chrUn_KI270303v1.fa\n",
            "./hg38.analysisSet.chroms/chrUn_KI270305v1.fa\n",
            "./hg38.analysisSet.chroms/chrUn_KI270322v1.fa\n",
            "./hg38.analysisSet.chroms/chrUn_KI270320v1.fa\n",
            "./hg38.analysisSet.chroms/chrUn_KI270310v1.fa\n",
            "./hg38.analysisSet.chroms/chrUn_KI270316v1.fa\n",
            "./hg38.analysisSet.chroms/chrUn_KI270315v1.fa\n",
            "./hg38.analysisSet.chroms/chrUn_KI270312v1.fa\n",
            "./hg38.analysisSet.chroms/chrUn_KI270311v1.fa\n",
            "./hg38.analysisSet.chroms/chrUn_KI270317v1.fa\n",
            "./hg38.analysisSet.chroms/chrUn_KI270412v1.fa\n",
            "./hg38.analysisSet.chroms/chrUn_KI270411v1.fa\n",
            "./hg38.analysisSet.chroms/chrUn_KI270414v1.fa\n",
            "./hg38.analysisSet.chroms/chrUn_KI270419v1.fa\n",
            "./hg38.analysisSet.chroms/chrUn_KI270418v1.fa\n",
            "./hg38.analysisSet.chroms/chrUn_KI270420v1.fa\n",
            "./hg38.analysisSet.chroms/chrUn_KI270424v1.fa\n",
            "./hg38.analysisSet.chroms/chrUn_KI270417v1.fa\n",
            "./hg38.analysisSet.chroms/chrUn_KI270422v1.fa\n",
            "./hg38.analysisSet.chroms/chrUn_KI270423v1.fa\n",
            "./hg38.analysisSet.chroms/chrUn_KI270425v1.fa\n",
            "./hg38.analysisSet.chroms/chrUn_KI270429v1.fa\n",
            "./hg38.analysisSet.chroms/chrUn_KI270442v1.fa\n",
            "./hg38.analysisSet.chroms/chrUn_KI270466v1.fa\n",
            "./hg38.analysisSet.chroms/chrUn_KI270465v1.fa\n",
            "./hg38.analysisSet.chroms/chrUn_KI270467v1.fa\n",
            "./hg38.analysisSet.chroms/chrUn_KI270435v1.fa\n",
            "./hg38.analysisSet.chroms/chrUn_KI270438v1.fa\n",
            "./hg38.analysisSet.chroms/chrUn_KI270468v1.fa\n",
            "./hg38.analysisSet.chroms/chrUn_KI270510v1.fa\n",
            "./hg38.analysisSet.chroms/chrUn_KI270509v1.fa\n",
            "./hg38.analysisSet.chroms/chrUn_KI270518v1.fa\n",
            "./hg38.analysisSet.chroms/chrUn_KI270508v1.fa\n",
            "./hg38.analysisSet.chroms/chrUn_KI270516v1.fa\n",
            "./hg38.analysisSet.chroms/chrUn_KI270512v1.fa\n",
            "./hg38.analysisSet.chroms/chrUn_KI270519v1.fa\n",
            "./hg38.analysisSet.chroms/chrUn_KI270522v1.fa\n",
            "./hg38.analysisSet.chroms/chrUn_KI270511v1.fa\n",
            "./hg38.analysisSet.chroms/chrUn_KI270515v1.fa\n",
            "./hg38.analysisSet.chroms/chrUn_KI270507v1.fa\n",
            "./hg38.analysisSet.chroms/chrUn_KI270517v1.fa\n",
            "./hg38.analysisSet.chroms/chrUn_KI270529v1.fa\n",
            "./hg38.analysisSet.chroms/chrUn_KI270528v1.fa\n",
            "./hg38.analysisSet.chroms/chrUn_KI270530v1.fa\n",
            "./hg38.analysisSet.chroms/chrUn_KI270539v1.fa\n",
            "./hg38.analysisSet.chroms/chrUn_KI270538v1.fa\n",
            "./hg38.analysisSet.chroms/chrUn_KI270544v1.fa\n",
            "./hg38.analysisSet.chroms/chrUn_KI270548v1.fa\n",
            "./hg38.analysisSet.chroms/chrUn_KI270583v1.fa\n",
            "./hg38.analysisSet.chroms/chrUn_KI270587v1.fa\n",
            "./hg38.analysisSet.chroms/chrUn_KI270580v1.fa\n",
            "./hg38.analysisSet.chroms/chrUn_KI270581v1.fa\n",
            "./hg38.analysisSet.chroms/chrUn_KI270579v1.fa\n",
            "./hg38.analysisSet.chroms/chrUn_KI270589v1.fa\n",
            "./hg38.analysisSet.chroms/chrUn_KI270590v1.fa\n",
            "./hg38.analysisSet.chroms/chrUn_KI270584v1.fa\n",
            "./hg38.analysisSet.chroms/chrUn_KI270582v1.fa\n",
            "./hg38.analysisSet.chroms/chrUn_KI270588v1.fa\n",
            "./hg38.analysisSet.chroms/chrUn_KI270593v1.fa\n",
            "./hg38.analysisSet.chroms/chrUn_KI270591v1.fa\n",
            "./hg38.analysisSet.chroms/chrUn_KI270330v1.fa\n",
            "./hg38.analysisSet.chroms/chrUn_KI270329v1.fa\n",
            "./hg38.analysisSet.chroms/chrUn_KI270334v1.fa\n",
            "./hg38.analysisSet.chroms/chrUn_KI270333v1.fa\n",
            "./hg38.analysisSet.chroms/chrUn_KI270335v1.fa\n",
            "./hg38.analysisSet.chroms/chrUn_KI270338v1.fa\n",
            "./hg38.analysisSet.chroms/chrUn_KI270340v1.fa\n",
            "./hg38.analysisSet.chroms/chrUn_KI270336v1.fa\n",
            "./hg38.analysisSet.chroms/chrUn_KI270337v1.fa\n",
            "./hg38.analysisSet.chroms/chrUn_KI270363v1.fa\n",
            "./hg38.analysisSet.chroms/chrUn_KI270364v1.fa\n",
            "./hg38.analysisSet.chroms/chrUn_KI270362v1.fa\n",
            "./hg38.analysisSet.chroms/chrUn_KI270366v1.fa\n",
            "./hg38.analysisSet.chroms/chrUn_KI270378v1.fa\n",
            "./hg38.analysisSet.chroms/chrUn_KI270379v1.fa\n",
            "./hg38.analysisSet.chroms/chrUn_KI270389v1.fa\n",
            "./hg38.analysisSet.chroms/chrUn_KI270390v1.fa\n",
            "./hg38.analysisSet.chroms/chrUn_KI270387v1.fa\n",
            "./hg38.analysisSet.chroms/chrUn_KI270395v1.fa\n",
            "./hg38.analysisSet.chroms/chrUn_KI270396v1.fa\n",
            "./hg38.analysisSet.chroms/chrUn_KI270388v1.fa\n",
            "./hg38.analysisSet.chroms/chrUn_KI270394v1.fa\n",
            "./hg38.analysisSet.chroms/chrUn_KI270386v1.fa\n",
            "./hg38.analysisSet.chroms/chrUn_KI270391v1.fa\n",
            "./hg38.analysisSet.chroms/chrUn_KI270383v1.fa\n",
            "./hg38.analysisSet.chroms/chrUn_KI270393v1.fa\n",
            "./hg38.analysisSet.chroms/chrUn_KI270384v1.fa\n",
            "./hg38.analysisSet.chroms/chrUn_KI270392v1.fa\n",
            "./hg38.analysisSet.chroms/chrUn_KI270381v1.fa\n",
            "./hg38.analysisSet.chroms/chrUn_KI270385v1.fa\n",
            "./hg38.analysisSet.chroms/chrUn_KI270382v1.fa\n",
            "./hg38.analysisSet.chroms/chrUn_KI270376v1.fa\n",
            "./hg38.analysisSet.chroms/chrUn_KI270374v1.fa\n",
            "./hg38.analysisSet.chroms/chrUn_KI270372v1.fa\n",
            "./hg38.analysisSet.chroms/chrUn_KI270373v1.fa\n",
            "./hg38.analysisSet.chroms/chrUn_KI270375v1.fa\n",
            "./hg38.analysisSet.chroms/chrUn_KI270371v1.fa\n",
            "./hg38.analysisSet.chroms/chrUn_KI270448v1.fa\n",
            "./hg38.analysisSet.chroms/chrUn_KI270521v1.fa\n",
            "./hg38.analysisSet.chroms/chrUn_GL000195v1.fa\n",
            "./hg38.analysisSet.chroms/chrUn_GL000219v1.fa\n",
            "./hg38.analysisSet.chroms/chrUn_GL000220v1.fa\n",
            "./hg38.analysisSet.chroms/chrUn_GL000224v1.fa\n",
            "./hg38.analysisSet.chroms/chrUn_KI270741v1.fa\n",
            "./hg38.analysisSet.chroms/chrUn_GL000226v1.fa\n",
            "./hg38.analysisSet.chroms/chrUn_GL000213v1.fa\n",
            "./hg38.analysisSet.chroms/chrUn_KI270743v1.fa\n",
            "./hg38.analysisSet.chroms/chrUn_KI270744v1.fa\n",
            "./hg38.analysisSet.chroms/chrUn_KI270745v1.fa\n",
            "./hg38.analysisSet.chroms/chrUn_KI270746v1.fa\n",
            "./hg38.analysisSet.chroms/chrUn_KI270747v1.fa\n",
            "./hg38.analysisSet.chroms/chrUn_KI270748v1.fa\n",
            "./hg38.analysisSet.chroms/chrUn_KI270749v1.fa\n",
            "./hg38.analysisSet.chroms/chrUn_KI270750v1.fa\n",
            "./hg38.analysisSet.chroms/chrUn_KI270751v1.fa\n",
            "./hg38.analysisSet.chroms/chrUn_KI270752v1.fa\n",
            "./hg38.analysisSet.chroms/chrUn_KI270753v1.fa\n",
            "./hg38.analysisSet.chroms/chrUn_KI270754v1.fa\n",
            "./hg38.analysisSet.chroms/chrUn_KI270755v1.fa\n",
            "./hg38.analysisSet.chroms/chrUn_KI270756v1.fa\n",
            "./hg38.analysisSet.chroms/chrUn_KI270757v1.fa\n",
            "./hg38.analysisSet.chroms/chrUn_GL000214v1.fa\n",
            "./hg38.analysisSet.chroms/chrUn_KI270742v1.fa\n",
            "./hg38.analysisSet.chroms/chrUn_GL000216v2.fa\n",
            "./hg38.analysisSet.chroms/chrUn_GL000218v1.fa\n",
            "./hg38.analysisSet.chroms/chrEBV.fa\n"
          ],
          "name": "stdout"
        }
      ]
    },
    {
      "cell_type": "markdown",
      "metadata": {
        "id": "0Ke8KZxUXt6U"
      },
      "source": [
        "Download annotations. I am not sure, if this step is needed for this homework, but they recommended it in STAR manual."
      ]
    },
    {
      "cell_type": "code",
      "metadata": {
        "id": "4h7rfuwZ9uyy",
        "outputId": "4a7a65fd-af03-4987-8ac5-cb70ec0c09ba",
        "colab": {
          "base_uri": "https://localhost:8080/",
          "height": 204
        }
      },
      "source": [
        "!wget http://hgdownload.soe.ucsc.edu/goldenPath/hg38/bigZips/genes/hg38.ncbiRefSeq.gtf.gz"
      ],
      "execution_count": null,
      "outputs": [
        {
          "output_type": "stream",
          "text": [
            "--2020-10-22 19:16:28--  http://hgdownload.soe.ucsc.edu/goldenPath/hg38/bigZips/genes/hg38.ncbiRefSeq.gtf.gz\n",
            "Resolving hgdownload.soe.ucsc.edu (hgdownload.soe.ucsc.edu)... 128.114.119.163\n",
            "Connecting to hgdownload.soe.ucsc.edu (hgdownload.soe.ucsc.edu)|128.114.119.163|:80... connected.\n",
            "HTTP request sent, awaiting response... 200 OK\n",
            "Length: 35861825 (34M) [application/x-gzip]\n",
            "Saving to: ‘hg38.ncbiRefSeq.gtf.gz’\n",
            "\n",
            "hg38.ncbiRefSeq.gtf 100%[===================>]  34.20M  4.72MB/s    in 16s     \n",
            "\n",
            "2020-10-22 19:16:45 (2.14 MB/s) - ‘hg38.ncbiRefSeq.gtf.gz’ saved [35861825/35861825]\n",
            "\n"
          ],
          "name": "stdout"
        }
      ]
    },
    {
      "cell_type": "markdown",
      "metadata": {
        "id": "4UFVkEmoX85Z"
      },
      "source": [
        "Unpack it."
      ]
    },
    {
      "cell_type": "code",
      "metadata": {
        "id": "nxYSH-Ib9_xH"
      },
      "source": [
        "!gunzip hg38.ncbiRefSeq.gtf.gz"
      ],
      "execution_count": null,
      "outputs": []
    },
    {
      "cell_type": "markdown",
      "metadata": {
        "id": "xrutEEtNYA0K"
      },
      "source": [
        "Download STAR and unpack it. We will not install it, we will use precommpile executables instead."
      ]
    },
    {
      "cell_type": "code",
      "metadata": {
        "id": "XBvSQBAZ51bN",
        "outputId": "33a53706-6102-457a-c0cc-df0480b6b91e",
        "colab": {
          "base_uri": "https://localhost:8080/",
          "height": 289
        }
      },
      "source": [
        "!wget https://github.com/alexdobin/STAR/archive/2.7.6a.tar.gz\n",
        "!tar -xzf 2.7.6a.tar.gz"
      ],
      "execution_count": null,
      "outputs": [
        {
          "output_type": "stream",
          "text": [
            "--2020-10-22 19:18:28--  https://github.com/alexdobin/STAR/archive/2.7.6a.tar.gz\n",
            "Resolving github.com (github.com)... 52.69.186.44\n",
            "Connecting to github.com (github.com)|52.69.186.44|:443... connected.\n",
            "HTTP request sent, awaiting response... 302 Found\n",
            "Location: https://codeload.github.com/alexdobin/STAR/tar.gz/2.7.6a [following]\n",
            "--2020-10-22 19:18:29--  https://codeload.github.com/alexdobin/STAR/tar.gz/2.7.6a\n",
            "Resolving codeload.github.com (codeload.github.com)... 52.68.31.213\n",
            "Connecting to codeload.github.com (codeload.github.com)|52.68.31.213|:443... connected.\n",
            "HTTP request sent, awaiting response... 200 OK\n",
            "Length: unspecified [application/x-gzip]\n",
            "Saving to: ‘2.7.6a.tar.gz’\n",
            "\n",
            "2.7.6a.tar.gz           [        <=>         ]   8.97M  5.60MB/s    in 1.6s    \n",
            "\n",
            "2020-10-22 19:18:31 (5.60 MB/s) - ‘2.7.6a.tar.gz’ saved [9404914]\n",
            "\n"
          ],
          "name": "stdout"
        }
      ]
    },
    {
      "cell_type": "markdown",
      "metadata": {
        "id": "tDQdzY9JYbMA"
      },
      "source": [
        "Create directory for storing genome (well, chromosome) index."
      ]
    },
    {
      "cell_type": "code",
      "metadata": {
        "id": "ML1oSt-D8H6Q"
      },
      "source": [
        "!mkdir index"
      ],
      "execution_count": null,
      "outputs": []
    },
    {
      "cell_type": "markdown",
      "metadata": {
        "id": "M_PlDZpIYk7i"
      },
      "source": [
        "Create index. Using just chromosome 22 for RAM reasons."
      ]
    },
    {
      "cell_type": "code",
      "metadata": {
        "id": "m17h2yhg7NjV",
        "outputId": "0b45f6c5-fd26-4f0f-def9-409a929a794f",
        "colab": {
          "base_uri": "https://localhost:8080/",
          "height": 255
        }
      },
      "source": [
        "!/content/STAR-2.7.6a/bin/Linux_x86_64/STAR \\\n",
        "--runThreadN 4 \\\n",
        "--runMode genomeGenerate \\\n",
        "--genomeDir /content/index/ \\\n",
        "--genomeFastaFiles /content/hg38.analysisSet.chroms/chr22.fa \\\n",
        "--sjdbGTFfile /content/hg38.ncbiRefSeq.gtf \\\n",
        "--genomeSAindexNbases 11"
      ],
      "execution_count": null,
      "outputs": [
        {
          "output_type": "stream",
          "text": [
            "Oct 22 19:18:40 ..... started STAR run\n",
            "Oct 22 19:18:40 ... starting to generate Genome files\n",
            "Oct 22 19:18:41 ..... processing annotations GTF\n",
            "Oct 22 19:18:52 ... starting to sort Suffix Array. This may take a long time...\n",
            "Oct 22 19:18:52 ... sorting Suffix Array chunks and saving them to disk...\n",
            "Oct 22 19:19:25 ... loading chunks from disk, packing SA...\n",
            "Oct 22 19:19:26 ... finished generating suffix array\n",
            "Oct 22 19:19:26 ... generating Suffix Array index\n",
            "Oct 22 19:19:29 ... completed Suffix Array index\n",
            "Oct 22 19:19:29 ..... inserting junctions into the genome indices\n",
            "Oct 22 19:19:36 ... writing Genome to disk ...\n",
            "Oct 22 19:19:36 ... writing Suffix Array to disk ...\n",
            "Oct 22 19:19:36 ... writing SAindex to disk\n",
            "Oct 22 19:19:36 ..... finished successfully\n"
          ],
          "name": "stdout"
        }
      ]
    },
    {
      "cell_type": "markdown",
      "metadata": {
        "id": "uQSHq0tiYrhw"
      },
      "source": [
        "Now we will prepare fasta file for mapping. Since we use only chromosome 22, we will also filter fasta file on this chromosome. For this wi will use shor python code which needs biopython package."
      ]
    },
    {
      "cell_type": "code",
      "metadata": {
        "id": "M75Sq0A0RQh1",
        "outputId": "9d82c291-c4fe-4e15-defa-41aff48cc61a",
        "colab": {
          "base_uri": "https://localhost:8080/",
          "height": 139
        }
      },
      "source": [
        "!pip3 install biopython"
      ],
      "execution_count": null,
      "outputs": [
        {
          "output_type": "stream",
          "text": [
            "Collecting biopython\n",
            "\u001b[?25l  Downloading https://files.pythonhosted.org/packages/76/02/8b606c4aa92ff61b5eda71d23b499ab1de57d5e818be33f77b01a6f435a8/biopython-1.78-cp36-cp36m-manylinux1_x86_64.whl (2.3MB)\n",
            "\u001b[K     |████████████████████████████████| 2.3MB 1.4MB/s \n",
            "\u001b[?25hRequirement already satisfied: numpy in /usr/local/lib/python3.6/dist-packages (from biopython) (1.18.5)\n",
            "Installing collected packages: biopython\n",
            "Successfully installed biopython-1.78\n"
          ],
          "name": "stdout"
        }
      ]
    },
    {
      "cell_type": "markdown",
      "metadata": {
        "id": "pYvowqIVZO9E"
      },
      "source": [
        "Just search for \"chr22\" in ID. Here we use fasta file downloaded from lecture and stored in `/content/drive/My Drive/DSIB01/hw3/`."
      ]
    },
    {
      "cell_type": "code",
      "metadata": {
        "id": "q7KMdoy4RNZ8"
      },
      "source": [
        "from Bio import SeqIO\n",
        "\n",
        "with open(\"/content/PUM2_10K_window-50_with_sequences_chr22.fa\", \"w\") as output_handle:\n",
        "  for record in SeqIO.parse(\"/content/drive/My Drive/DSIB01/hw3/PUM2_10K_window-50_with_sequences.fa\", \"fasta\"):\n",
        "      if \"chr22\" in record.description:\n",
        "        SeqIO.write(record, output_handle, \"fasta\")"
      ],
      "execution_count": null,
      "outputs": []
    },
    {
      "cell_type": "markdown",
      "metadata": {
        "id": "9DXOsCJWZXNw"
      },
      "source": [
        "Now we align filtered fasta file on indexed chromosome."
      ]
    },
    {
      "cell_type": "code",
      "metadata": {
        "id": "sA_dw3HuD5Se",
        "outputId": "0b5d9cf2-cfd8-4aa0-dca1-155e97416fd1",
        "colab": {
          "base_uri": "https://localhost:8080/",
          "height": 119
        }
      },
      "source": [
        "!/content/STAR-2.7.6a/bin/Linux_x86_64/STAR \\\n",
        "--runThreadN 4 \\\n",
        "--genomeDir /content/index/ \\\n",
        "--readFilesIn /content/PUM2_10K_window-50_with_sequences_chr22.fa \\\n",
        "--outSAMtype BAM SortedByCoordinate"
      ],
      "execution_count": null,
      "outputs": [
        {
          "output_type": "stream",
          "text": [
            "Oct 22 19:23:10 ..... started STAR run\n",
            "Oct 22 19:23:10 ..... loading genome\n",
            "Oct 22 19:23:11 ..... started mapping\n",
            "Oct 22 19:23:11 ..... finished mapping\n",
            "Oct 22 19:23:11 ..... started sorting BAM\n",
            "Oct 22 19:23:11 ..... finished successfully\n"
          ],
          "name": "stdout"
        }
      ]
    },
    {
      "cell_type": "markdown",
      "metadata": {
        "id": "0wbITGc9aKYu"
      },
      "source": [
        "Install bedtools to be able to use `bamtobed`."
      ]
    },
    {
      "cell_type": "code",
      "metadata": {
        "id": "PD5G3RPNJfFA",
        "outputId": "bca84e8c-b572-4d2f-91ab-b61da03de760",
        "colab": {
          "base_uri": "https://localhost:8080/",
          "height": 272
        }
      },
      "source": [
        "!apt-get install bedtools"
      ],
      "execution_count": null,
      "outputs": [
        {
          "output_type": "stream",
          "text": [
            "Reading package lists... Done\n",
            "Building dependency tree       \n",
            "Reading state information... Done\n",
            "The following NEW packages will be installed:\n",
            "  bedtools\n",
            "0 upgraded, 1 newly installed, 0 to remove and 21 not upgraded.\n",
            "Need to get 577 kB of archives.\n",
            "After this operation, 2,040 kB of additional disk space will be used.\n",
            "Get:1 http://archive.ubuntu.com/ubuntu bionic/universe amd64 bedtools amd64 2.26.0+dfsg-5 [577 kB]\n",
            "Fetched 577 kB in 2s (289 kB/s)\n",
            "Selecting previously unselected package bedtools.\n",
            "(Reading database ... 144611 files and directories currently installed.)\n",
            "Preparing to unpack .../bedtools_2.26.0+dfsg-5_amd64.deb ...\n",
            "Unpacking bedtools (2.26.0+dfsg-5) ...\n",
            "Setting up bedtools (2.26.0+dfsg-5) ...\n"
          ],
          "name": "stdout"
        }
      ]
    },
    {
      "cell_type": "markdown",
      "metadata": {
        "id": "NPQoIxCWaSfB"
      },
      "source": [
        "Convert BAM output to BED output."
      ]
    },
    {
      "cell_type": "code",
      "metadata": {
        "id": "usj9ADguJlFQ"
      },
      "source": [
        "!bedtools bamtobed -i Aligned.sortedByCoord.out.bam > out.bed"
      ],
      "execution_count": null,
      "outputs": []
    }
  ]
}